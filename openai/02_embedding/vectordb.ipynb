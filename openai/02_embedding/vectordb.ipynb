{
 "cells": [
  {
   "cell_type": "markdown",
   "id": "f067c8c4-3007-4b34-a4b2-9e9079906c34",
   "metadata": {},
   "source": [
    "# Vector Database\n",
    "\n",
    "## Demo code to store and search via a vector database\n",
    "A quick demo code to store and search based on data from amazon-fine-food-reviews\n",
    "\n",
    "Please ensure you have *.env* file in your HOME/Documents/src/openai/ folder"
   ]
  },
  {
   "cell_type": "code",
   "execution_count": null,
   "id": "8aed98ff-4f15-4137-bd9f-af9ba28693c7",
   "metadata": {},
   "outputs": [],
   "source": [
    "from openai import AzureOpenAI\n",
    "from dotenv import load_dotenv\n",
    "import pandas as pd\n",
    "import tiktoken\n",
    "import os\n",
    "\n",
    "env_path = os.getenv(\"HOME\") + \"/Documents/src/openai/.env\"\n",
    "load_dotenv(dotenv_path=env_path, verbose=True)\n",
    "\n",
    "os.environ[\"OPENAI_API_TYPE\"] = \"azure\"\n",
    "os.environ[\"OPENAI_API_VERSION\"] = \"2023-05-15\"\n",
    "os.environ[\"AZURE_OPENAI_ENDPOINT\"] = \"https://pvg-azure-openai-uk-south.openai.azure.com\"\n",
    "\n",
    "client = AzureOpenAI(\n",
    "  azure_endpoint = os.getenv(\"AZURE_OPENAI_ENDPOINT\"), \n",
    "  api_key=os.getenv(\"AZURE_OPENAI_API_KEY\"),  \n",
    "  api_version=\"2023-05-15\"\n",
    ")"
   ]
  },
  {
   "cell_type": "code",
   "execution_count": null,
   "id": "7f04d0f8-4566-49d4-b622-f6f21cbc0af9",
   "metadata": {},
   "outputs": [],
   "source": [
    "db_path = \"data/amazon-food-reviews-faiss\"\n",
    "input_path = \"data/fine_food_reviews_1k.csv\""
   ]
  },
  {
   "cell_type": "code",
   "execution_count": null,
   "id": "2a435004-10b1-4c88-a18b-8eeafbb1ba37",
   "metadata": {},
   "outputs": [],
   "source": [
    "from langchain.embeddings import AzureOpenAIEmbeddings\n",
    "from langchain.document_loaders.csv_loader import CSVLoader\n",
    "from langchain.vectorstores import FAISS\n",
    "\n",
    "\n",
    "loader = CSVLoader(file_path=input_path, encoding=\"utf-8\", csv_args={'delimiter': ','})\n",
    "data = loader.load()\n",
    "\n",
    "db = FAISS.from_documents(data, AzureOpenAIEmbeddings())"
   ]
  },
  {
   "cell_type": "code",
   "execution_count": null,
   "id": "cfabfe5b-e6b9-4688-9933-a9b615519bc1",
   "metadata": {},
   "outputs": [],
   "source": [
    "db.save_local(db_path)"
   ]
  },
  {
   "cell_type": "code",
   "execution_count": null,
   "id": "2a3ad091-b985-4c79-8f10-3e5462e22445",
   "metadata": {},
   "outputs": [],
   "source": [
    "new_db = FAISS.load_local(db_path, AzureOpenAIEmbeddings())"
   ]
  },
  {
   "cell_type": "code",
   "execution_count": null,
   "id": "3e9e9caf-f86f-47e6-9d69-443e55214878",
   "metadata": {},
   "outputs": [],
   "source": [
    "query = \"bad packaging\"\n",
    "answer_list = new_db.similarity_search(query)\n",
    "for ans in answer_list:\n",
    "    print(ans.page_content + \"\\n\")"
   ]
  },
  {
   "cell_type": "code",
   "execution_count": null,
   "id": "8c3d4158-8dbf-4ad5-8357-d5edf70ffa1e",
   "metadata": {},
   "outputs": [],
   "source": [
    "retriever = db.as_retriever(\n",
    "    search_type=\"similarity_score_threshold\",\n",
    "    search_kwargs={\"score_threshold\": 0.75}\n",
    ")\n",
    "docs = retriever.get_relevant_documents(\"bad packaging\")\n",
    "for doc in docs:\n",
    "    print(doc.page_content + \"\\n\")"
   ]
  },
  {
   "cell_type": "code",
   "execution_count": null,
   "id": "562d4cd8-8896-4feb-8301-43bd365f480d",
   "metadata": {},
   "outputs": [],
   "source": [
    "from langchain.chains import RetrievalQA\n",
    "from langchain.chat_models import AzureChatOpenAI\n",
    "\n",
    "llm = AzureChatOpenAI(model_name=\"gpt-35-turbo\", temperature=0.3)\n",
    "qa_chain = RetrievalQA.from_chain_type(llm,\n",
    "             retriever=new_db.as_retriever(search_type=\"similarity_score_threshold\",\n",
    "               search_kwargs={\"score_threshold\": 0.75}))\n",
    "qa_chain.combine_documents_chain.verbose = True\n",
    "qa_chain.return_source_documents = True"
   ]
  },
  {
   "cell_type": "code",
   "execution_count": null,
   "id": "36c121d6-02f5-4fa3-9c12-d8144ba63ac5",
   "metadata": {},
   "outputs": [],
   "source": [
    "qa_chain({\"query\": \"bad packaging\"})"
   ]
  }
 ],
 "metadata": {
  "kernelspec": {
   "display_name": "Python 3 (ipykernel)",
   "language": "python",
   "name": "python3"
  },
  "language_info": {
   "codemirror_mode": {
    "name": "ipython",
    "version": 3
   },
   "file_extension": ".py",
   "mimetype": "text/x-python",
   "name": "python",
   "nbconvert_exporter": "python",
   "pygments_lexer": "ipython3",
   "version": "3.10.13"
  }
 },
 "nbformat": 4,
 "nbformat_minor": 5
}
