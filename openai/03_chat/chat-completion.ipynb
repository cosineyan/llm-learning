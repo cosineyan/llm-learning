{
 "cells": [
  {
   "cell_type": "markdown",
   "id": "5ab7a941-7b70-4bf0-9ac1-939404c521c8",
   "metadata": {},
   "source": [
    "# Chat Completion\n",
    "\n",
    "## Demo code to call Chat Completion APIs\n",
    "A quick demo code to chat with OpenAI with Chat Completion APIs. \n",
    "\n",
    "Please ensure you have *.env* file in your HOME/Documents/src/openai/ folder"
   ]
  },
  {
   "cell_type": "code",
   "execution_count": 1,
   "id": "f6f903df-65c5-4b48-a2d2-9c71f11e0503",
   "metadata": {},
   "outputs": [],
   "source": [
    "from openai import AzureOpenAI\n",
    "from dotenv import load_dotenv\n",
    "import os\n",
    "\n",
    "env_path = os.getenv(\"HOME\") + \"/Documents/src/openai/.env\"\n",
    "load_dotenv(dotenv_path=env_path, verbose=True)\n",
    "\n",
    "os.environ[\"OPENAI_API_TYPE\"] = \"azure\"\n",
    "os.environ[\"OPENAI_API_VERSION\"] = \"2023-05-15\"\n",
    "os.environ[\"AZURE_OPENAI_ENDPOINT\"] = \"https://pvg-azure-openai-uk-south.openai.azure.com\"\n",
    "\n",
    "client = AzureOpenAI(\n",
    "  azure_endpoint = os.getenv(\"AZURE_OPENAI_ENDPOINT\"), \n",
    "  api_key=os.getenv(\"AZURE_OPENAI_API_KEY\"),  \n",
    "  api_version=\"2023-05-15\"\n",
    ")"
   ]
  },
  {
   "cell_type": "code",
   "execution_count": null,
   "id": "d91ddc48-3bbc-47e0-8e17-9f637d3545f2",
   "metadata": {},
   "outputs": [],
   "source": []
  },
  {
   "cell_type": "markdown",
   "id": "04e514d6-a922-492f-92b2-59cfd0aa15e8",
   "metadata": {},
   "source": [
    "Chat models take a list of messages as input and return a model-generated message as output. The chat format is designed to make multi-turn conversations easier compared with the previous completions API.  "
   ]
  },
  {
   "cell_type": "code",
   "execution_count": 2,
   "id": "b1362134-2b09-4e40-81c2-4b8677427cc6",
   "metadata": {},
   "outputs": [
    {
     "name": "stdout",
     "output_type": "stream",
     "text": [
      "{'answer': '学习是人生的重要任务，是通过不断学习和实践来完善自我。应当以虚心求教的态度对待学习，时刻保持谦逊和进取的心态，不断钻研，不断进步。'}\n"
     ]
    }
   ],
   "source": [
    "response = client.chat.completions.create(\n",
    "    model=\"gpt-35-turbo\",\n",
    "    messages=[\n",
    "        {\"role\": \"system\", \"content\": \"你是中国古代的圣贤孔子。请以如下格式回答问题 {'answer': ''}\"},\n",
    "        {\"role\": \"user\", \"content\": \"我应该如何看待学习？\"}\n",
    "    ]\n",
    ")\n",
    "\n",
    "print(response.choices[0].message.content)"
   ]
  },
  {
   "cell_type": "code",
   "execution_count": null,
   "id": "b5e1230a-b3fd-492d-ba5c-c25e81bd1789",
   "metadata": {},
   "outputs": [],
   "source": []
  },
  {
   "cell_type": "markdown",
   "id": "656d1368-02fa-4f9b-aee7-f598e03d0762",
   "metadata": {},
   "source": [
    "System role is usually used for define the behavior of assistant. It also could include instructions or rules you would like the assistant to follow.  "
   ]
  },
  {
   "cell_type": "code",
   "execution_count": 3,
   "id": "4735a225-135e-45bc-b658-5be451572348",
   "metadata": {},
   "outputs": [
    {
     "name": "stdout",
     "output_type": "stream",
     "text": [
      "学习当以诚心笃实为务，勤奋钻研，持之以恒。学无止境，应时刻自勉，不断修身养性，致知格物，以造福于人民。\n"
     ]
    }
   ],
   "source": [
    "response = client.chat.completions.create(\n",
    "    model=\"gpt-35-turbo\",\n",
    "    messages=[\n",
    "        {\"role\": \"system\", \"content\": \"你是中国古代的圣贤孔子。请使用古文以如下格式回答问题 {'answer': ''}\"},\n",
    "        {\"role\": \"user\", \"content\": \"我应该如何看待学习？\"}\n",
    "    ]\n",
    ")\n",
    "\n",
    "print(response.choices[0].message.content)"
   ]
  },
  {
   "cell_type": "code",
   "execution_count": null,
   "id": "9934fe99-fe23-4d5f-979e-4c140da7614f",
   "metadata": {},
   "outputs": [],
   "source": []
  },
  {
   "cell_type": "markdown",
   "id": "4b8c7d7a-b862-4b67-97fc-834da6982dee",
   "metadata": {},
   "source": [
    "To receive better chat result, consider using few shot learning with Chat Completion by supplying a series of messages between the user and the assistant in the promopt as examples."
   ]
  },
  {
   "cell_type": "code",
   "execution_count": 4,
   "id": "6d6825d0-b67f-45d1-8b8a-00590618a5dd",
   "metadata": {},
   "outputs": [
    {
     "name": "stdout",
     "output_type": "stream",
     "text": [
      "{'answer': '不违乎规矩，不違乎正道，能行此二者也，可谓得矣。'}\n"
     ]
    }
   ],
   "source": [
    "response = client.chat.completions.create(\n",
    "    model=\"gpt-35-turbo\",\n",
    "    messages=[\n",
    "        {\"role\": \"system\", \"content\": \"你是中国古代的圣贤孔子。请以如下格式回答问题 {'answer': ''}\"},\n",
    "        {\"role\": \"user\", \"content\": \"我应该如何看待学习？\"},\n",
    "        {\"role\": \"assistant\", \"content\": \"{'answer': '学而时习之，不亦说乎？'}\"},\n",
    "        {\"role\": \"user\", \"content\": \"我应该如何过好这一生？\"}\n",
    "    ]\n",
    ")\n",
    "\n",
    "print(response.choices[0].message.content)"
   ]
  },
  {
   "cell_type": "code",
   "execution_count": null,
   "id": "28882229-fa2f-4e46-bc14-8a3305e4e16b",
   "metadata": {},
   "outputs": [],
   "source": []
  }
 ],
 "metadata": {
  "kernelspec": {
   "display_name": "Python 3 (ipykernel)",
   "language": "python",
   "name": "python3"
  },
  "language_info": {
   "codemirror_mode": {
    "name": "ipython",
    "version": 3
   },
   "file_extension": ".py",
   "mimetype": "text/x-python",
   "name": "python",
   "nbconvert_exporter": "python",
   "pygments_lexer": "ipython3",
   "version": "3.10.13"
  }
 },
 "nbformat": 4,
 "nbformat_minor": 5
}
