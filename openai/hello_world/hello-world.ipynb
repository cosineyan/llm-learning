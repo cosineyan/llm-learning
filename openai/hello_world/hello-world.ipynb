{
 "cells": [
  {
   "cell_type": "markdown",
   "id": "8da67c73-9627-42c5-a128-1e4b67587656",
   "metadata": {},
   "source": [
    "# Hello World for LLM\n",
    "\n",
    "## Demo code to connect to Azure OpenAI\n",
    "A quick demo code to connect to Azure OpenAI interface, and run some prompt.\n",
    "\n",
    "Please ensure you have *.env* file in the same folder."
   ]
  },
  {
   "cell_type": "code",
   "execution_count": null,
   "id": "83e6f66b-598b-4883-b09d-39527f4dcd54",
   "metadata": {},
   "outputs": [],
   "source": [
    "from openai import AzureOpenAI\n",
    "from dotenv import load_dotenv\n",
    "import os\n",
    "\n",
    "load_dotenv()\n",
    "os.environ[\"OPENAI_API_TYPE\"] = \"azure\"\n",
    "os.environ[\"OPENAI_API_VERSION\"] = \"2023-05-15\"\n",
    "os.environ[\"AZURE_OPENAI_ENDPOINT\"] = \"https://pvg-azure-openai-uk-south.openai.azure.com\"\n",
    "\n",
    "client = AzureOpenAI(\n",
    "  azure_endpoint = os.getenv(\"AZURE_OPENAI_ENDPOINT\"), \n",
    "  api_key=os.getenv(\"AZURE_OPENAI_API_KEY\"),  \n",
    "  api_version=\"2023-05-15\"\n",
    ")\n",
    "\n",
    "response = client.chat.completions.create(\n",
    "    model=\"gpt-35-turbo\", # model = \"deployment_name\".\n",
    "    messages=[\n",
    "        {\"role\": \"system\", \"content\": \"You are a helpful assistant.\"},\n",
    "        {\"role\": \"user\", \"content\": \"Do other Azure AI services support this too?\"}\n",
    "    ]\n",
    ")\n",
    "\n",
    "print(response.choices[0].message.content)"
   ]
  },
  {
   "cell_type": "code",
   "execution_count": null,
   "id": "8e3b7666-9024-48bf-8040-683da48aef9d",
   "metadata": {},
   "outputs": [],
   "source": [
    "from langchain.chat_models import AzureChatOpenAI\n",
    "from langchain.schema import HumanMessage\n",
    " \n",
    "model = AzureChatOpenAI(deployment_name=\"gpt-35-turbo\")\n",
    " \n",
    "message = HumanMessage(\n",
    "    content=\"Translate this sentence from English to Chinese: Who am I?\"\n",
    ")\n",
    "print(model([message]))"
   ]
  },
  {
   "cell_type": "markdown",
   "id": "b8c5ccee-e339-42c0-b7c0-397ef2ba60e0",
   "metadata": {},
   "source": [
    "## Count the token of an input\n",
    "\n",
    "A piece of code to visualize the token of a string input. "
   ]
  },
  {
   "cell_type": "code",
   "execution_count": null,
   "id": "0bf7fdfb-a016-4cc8-beda-6b81b334db7e",
   "metadata": {},
   "outputs": [],
   "source": [
    "import tiktoken\n",
    "from IPython.display import clear_output\n",
    "\n",
    "enc4GPT4 = tiktoken.encoding_for_model(\"gpt-4\")\n",
    "print(enc4GPT4)\n",
    "color_codes = ['0;47', '0;42', '0;43', '0;44', '0;46', '0;45']\n",
    "\n",
    "user_input = input(\"Input your text: \")\n",
    "clear_output(wait=True)\n",
    "\n",
    "encoded = enc4GPT4.encode(user_input)\n",
    "decoded = enc4GPT4.decode_tokens_bytes(encoded)\n",
    "token_list = [token.decode() for token in decoded]\n",
    "\n",
    "char_count= sum(len(i) for i in token_list)\n",
    "\n",
    "for idx, token in enumerate(token_list):\n",
    "    print(f'\\x1b[{color_codes[idx % len(color_codes)]};1m{token}\\x1b[0m', end='')\n",
    "\n",
    "print(\"\\n\\n\" + str(token_list) + \"\\n\")\n",
    "print(str(encoded) + \"\\n\")\n",
    "print(\"Token Count: \" + str(len(encoded)))\n",
    "print(\"Characters: \"  + str(char_count))"
   ]
  },
  {
   "cell_type": "markdown",
   "id": "d55f32b2-a4c9-40dd-9a56-9f9bf5625716",
   "metadata": {},
   "source": [
    "Here is a piece of sample code to avod"
   ]
  },
  {
   "cell_type": "code",
   "execution_count": null,
   "id": "ec0a5332-4d61-423b-911d-7266f50928e1",
   "metadata": {},
   "outputs": [],
   "source": [
    "system_message = {\"role\": \"system\", \"content\": \"You are a helpful assistant.\"}\n",
    "max_response_tokens = 250\n",
    "token_limit= 500\n",
    "conversation=[]\n",
    "conversation.append(system_message)\n",
    "\n",
    "def num_tokens_from_messages(messages, model=\"gpt-3.5-turbo-0301\"):\n",
    "    encoding = tiktoken.encoding_for_model(model)\n",
    "    num_tokens = 0\n",
    "    for message in messages:\n",
    "        num_tokens += 4  # every message follows <im_start>{role/name}\\n{content}<im_end>\\n\n",
    "        for key, value in message.items():\n",
    "            num_tokens += len(encoding.encode(value))\n",
    "            if key == \"name\":  # if there's a name, the role is omitted\n",
    "                num_tokens += -1  # role is always required and always 1 token\n",
    "    num_tokens += 2  # every reply is primed with <im_start>assistant\n",
    "    return num_tokens\n",
    "\n",
    "while(True):\n",
    "    user_input = input(\"\")     \n",
    "    conversation.append({\"role\": \"user\", \"content\": user_input})\n",
    "    conv_history_tokens = num_tokens_from_messages(conversation)\n",
    "\n",
    "    while (conv_history_tokens+max_response_tokens >= token_limit):\n",
    "        del conversation[1]\n",
    "        conv_history_tokens = num_tokens_from_messages(conversation)\n",
    "        \n",
    "    response = client.chat.completions.create(\n",
    "        model=\"gpt-35-turbo\",\n",
    "        messages = conversation,\n",
    "        temperature=.7,\n",
    "        max_tokens=max_response_tokens,\n",
    "    )\n",
    "\n",
    "    conversation.append({\"role\": \"assistant\", \"content\": response.choices[0].message.content})\n",
    "    print(\"\\n\" + response.choices[0].message.content + \"\\n\")\n",
    "    post_response=num_tokens_from_messages(conversation)\n",
    "    print(f\"Post response token count: {post_response}\")\n",
    "    print(\"\\n\" + str(conversation[1]))\n",
    "    print(\"\\n\\n\")"
   ]
  },
  {
   "cell_type": "code",
   "execution_count": null,
   "id": "26197081-df4e-4fea-8846-64ddd5956355",
   "metadata": {},
   "outputs": [],
   "source": [
    "enc4Ada002 = tiktoken.encoding_for_model(\"text-embedding-ada-002\")\n",
    "print(enc4Ada002)\n",
    "enc4Emb3 = tiktoken.encoding_for_model(\"text-embedding-3-small\")\n",
    "print(enc4Emb3)"
   ]
  }
 ],
 "metadata": {
  "kernelspec": {
   "display_name": "Python 3 (ipykernel)",
   "language": "python",
   "name": "python3"
  },
  "language_info": {
   "codemirror_mode": {
    "name": "ipython",
    "version": 3
   },
   "file_extension": ".py",
   "mimetype": "text/x-python",
   "name": "python",
   "nbconvert_exporter": "python",
   "pygments_lexer": "ipython3",
   "version": "3.10.13"
  }
 },
 "nbformat": 4,
 "nbformat_minor": 5
}
