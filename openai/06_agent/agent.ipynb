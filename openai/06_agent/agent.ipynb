{
 "cells": [
  {
   "cell_type": "markdown",
   "id": "10593931-48ae-4586-a349-4b8894a066e4",
   "metadata": {},
   "source": [
    "# Agent\n",
    "\n",
    "## Demo code to build agent\n",
    "A quick demo code to build agent. \n",
    "\n",
    "Please ensure you have *.env* file in your HOME/Documents/src/openai/ folder"
   ]
  },
  {
   "cell_type": "markdown",
   "id": "43d17546-f226-406b-936d-89ca98dc9ec8",
   "metadata": {},
   "source": [
    "## Initialize the Environment"
   ]
  },
  {
   "cell_type": "code",
   "execution_count": null,
   "id": "5affc74c-95ab-460b-a554-151bdaad1be1",
   "metadata": {},
   "outputs": [],
   "source": [
    "from langchain_openai import AzureChatOpenAI\n",
    "from dotenv import load_dotenv\n",
    "from pprint import pprint\n",
    "import os\n",
    "\n",
    "env_path = os.getenv(\"HOME\") + \"/Documents/src/openai/.env\"\n",
    "load_dotenv(dotenv_path=env_path, verbose=True)\n",
    "\n",
    "os.environ[\"OPENAI_API_TYPE\"] = \"azure\"\n",
    "os.environ[\"OPENAI_API_VERSION\"] = \"2023-05-15\"\n",
    "os.environ[\"AZURE_OPENAI_ENDPOINT\"] = \"https://pvg-azure-openai-uk-south.openai.azure.com\"\n",
    "\n",
    "model = AzureChatOpenAI(deployment_name=\"gpt-35-turbo\")"
   ]
  },
  {
   "cell_type": "code",
   "execution_count": null,
   "id": "b3fdd17b-247e-44b8-bc71-a057f1f6e34d",
   "metadata": {},
   "outputs": [],
   "source": [
    "from langchain import hub\n",
    "from langchain.agents import AgentExecutor, create_react_agent, create_self_ask_with_search_agent\n",
    "from langchain_community.tools.tavily_search import TavilySearchResults, TavilyAnswer\n",
    "from langchain.tools import Tool, tool\n",
    "\n",
    "tools = []\n",
    "tools += [TavilySearchResults(max_results=1)]\n",
    "tools += [TavilyAnswer(max_results=1, name=\"Intermediate Answer\")]\n",
    "\n",
    "prompt = hub.pull(\"hwchase17/react\")\n",
    "agent = create_react_agent(model, tools, prompt1)\n",
    "agent_executor = AgentExecutor(agent=agent, tools=tools, verbose=True)\n",
    "agent_executor.invoke({\"input\": \"When Christian Klein was born, who's the president of United States?\"})"
   ]
  },
  {
   "cell_type": "code",
   "execution_count": null,
   "id": "db0d8157-3a6b-4273-9c2a-f453e700b209",
   "metadata": {},
   "outputs": [],
   "source": [
    "tools = [TavilyAnswer(max_results=1, name=\"Intermediate Answer\")]\n",
    "prompt = hub.pull(\"hwchase17/self-ask-with-search\")\n",
    "agent = create_self_ask_with_search_agent(model, tools, prompt)\n",
    "agent_executor = AgentExecutor(agent=agent, tools=tools, verbose=True, handle_parsing_errors=True)\n",
    "agent_executor.invoke({\"input\": \"When Christian Klein was born, who's the president of United States?\"})"
   ]
  },
  {
   "cell_type": "code",
   "execution_count": null,
   "id": "58814685-3f2b-45e9-8e22-a2481bd53947",
   "metadata": {},
   "outputs": [],
   "source": []
  }
 ],
 "metadata": {
  "kernelspec": {
   "display_name": "Python 3 (ipykernel)",
   "language": "python",
   "name": "python3"
  },
  "language_info": {
   "codemirror_mode": {
    "name": "ipython",
    "version": 3
   },
   "file_extension": ".py",
   "mimetype": "text/x-python",
   "name": "python",
   "nbconvert_exporter": "python",
   "pygments_lexer": "ipython3",
   "version": "3.10.13"
  }
 },
 "nbformat": 4,
 "nbformat_minor": 5
}
